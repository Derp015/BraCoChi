{
 "cells": [
  {
   "cell_type": "markdown",
   "id": "2f39c639-69d3-4763-b5a6-40cb75a8aec8",
   "metadata": {},
   "source": [
    "# Exploratory analysis\n",
    "\n",
    "Initial code for exploratory for FSDS Data+PolicyBriefing assignment\n",
    "\n",
    "By: Andres Restrepo"
   ]
  }
 ],
 "metadata": {
  "kernelspec": {
   "display_name": "Python 3 (ipykernel)",
   "language": "python",
   "name": "python3"
  },
  "language_info": {
   "codemirror_mode": {
    "name": "ipython",
    "version": 3
   },
   "file_extension": ".py",
   "mimetype": "text/x-python",
   "name": "python",
   "nbconvert_exporter": "python",
   "pygments_lexer": "ipython3",
   "version": "3.10.5"
  }
 },
 "nbformat": 4,
 "nbformat_minor": 5
}
